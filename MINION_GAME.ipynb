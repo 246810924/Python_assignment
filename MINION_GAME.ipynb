{
 "cells": [
  {
   "cell_type": "code",
   "execution_count": 4,
   "id": "98dfe02f",
   "metadata": {},
   "outputs": [],
   "source": [
    "def minion_game(string: str) -> None:\n",
    "    # your code goes here\n",
    "    kevin = stuart =0\n",
    "    length: int = len(string)\n",
    "    for i, char in enumerate(string):\n",
    "        points: int = length - i\n",
    "        if char in {\"A\",\"E\",\"I\",\"O\",\"U\"}:\n",
    "            kevin += points\n",
    "        else:\n",
    "            stuart += points\n",
    "    \n",
    "    if kevin == stuart:\n",
    "        print(\"Draw\")\n",
    "    else:\n",
    "        print(*(\"Stuart\",stuart) if stuart > kevin  else (\"Kevin\", kevin))"
   ]
  }
 ],
 "metadata": {
  "kernelspec": {
   "display_name": "Python 3 (ipykernel)",
   "language": "python",
   "name": "python3"
  },
  "language_info": {
   "codemirror_mode": {
    "name": "ipython",
    "version": 3
   },
   "file_extension": ".py",
   "mimetype": "text/x-python",
   "name": "python",
   "nbconvert_exporter": "python",
   "pygments_lexer": "ipython3",
   "version": "3.10.9"
  }
 },
 "nbformat": 4,
 "nbformat_minor": 5
}
